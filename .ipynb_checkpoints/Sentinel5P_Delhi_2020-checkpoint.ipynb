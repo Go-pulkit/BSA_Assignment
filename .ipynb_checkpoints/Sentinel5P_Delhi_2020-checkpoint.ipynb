{
 "cells": [
  {
   "cell_type": "markdown",
   "metadata": {
    "id": "OHLd12klwSZ4"
   },
   "source": [
    "Let's import Earth Engine Python API and authenticate it with our registered google account\n",
    "\n",
    "\n"
   ]
  },
  {
   "cell_type": "code",
   "execution_count": null,
   "metadata": {
    "colab": {
     "base_uri": "https://localhost:8080/"
    },
    "id": "vrut8OmW6hk1",
    "outputId": "881d0871-6b7d-47d3-d19c-78da242d2fcd"
   },
   "outputs": [
    {
     "name": "stdout",
     "output_type": "stream",
     "text": [
      "To authorize access needed by Earth Engine, open the following URL in a web browser and follow the instructions. If the web browser does not start automatically, please manually browse the URL below.\n",
      "\n",
      "    https://accounts.google.com/o/oauth2/auth?client_id=517222506229-vsmmajv00ul0bs7p89v5m89qs8eb9359.apps.googleusercontent.com&scope=https%3A%2F%2Fwww.googleapis.com%2Fauth%2Fearthengine+https%3A%2F%2Fwww.googleapis.com%2Fauth%2Fdevstorage.full_control&redirect_uri=urn%3Aietf%3Awg%3Aoauth%3A2.0%3Aoob&response_type=code&code_challenge=ltcwV6GKLBw28kCc4Ru7yAHv69dPpdadKu_TNa_BG5k&code_challenge_method=S256\n",
      "\n",
      "The authorization workflow will generate a code, which you should paste in the box below. \n",
      "Enter verification code: 4/1AX4XfWime1vN--xgqakpdjeRgTSNmkt0aJlOnrNZqTScJBQPpTX9DEcVHJY\n",
      "\n",
      "Successfully saved authorization token.\n"
     ]
    }
   ],
   "source": [
    "import ee\n",
    "\n",
    "ee.Authenticate()"
   ]
  },
  {
   "cell_type": "markdown",
   "metadata": {
    "id": "fv86jYUFwiZ_"
   },
   "source": [
    "Initialiaze the API so that we can start working"
   ]
  },
  {
   "cell_type": "code",
   "execution_count": null,
   "metadata": {
    "id": "zwnWLOuf6oeH"
   },
   "outputs": [],
   "source": [
    "ee.Initialize()"
   ]
  },
  {
   "cell_type": "markdown",
   "metadata": {
    "id": "ao_srC3Gwn7q"
   },
   "source": [
    "Define coordinates for our region of interest (Delhi in this case) using a geojson script and convert it into earth engine geometry object  "
   ]
  },
  {
   "cell_type": "code",
   "execution_count": null,
   "metadata": {
    "id": "ZnIC_1jU6og1"
   },
   "outputs": [],
   "source": [
    "geojson = {\n",
    "  \"type\": \"FeatureCollection\",\n",
    "  \"features\": [\n",
    "    {\n",
    "      \"type\": \"Feature\",\n",
    "      \"properties\": {\n",
    "        \"stroke\": \"#555555\",\n",
    "        \"stroke-width\": 2,\n",
    "        \"stroke-opacity\": 1,\n",
    "        \"fill\": \"#555555\",\n",
    "        \"fill-opacity\": 0.5\n",
    "      },\n",
    "      \"geometry\": {\n",
    "        \"type\": \"Polygon\",\n",
    "        \"coordinates\": [\n",
    "          [\n",
    "            [\n",
    "              76.77932739257812,\n",
    "              28.386567819657213\n",
    "            ],\n",
    "            [\n",
    "              77.39456176757812,\n",
    "              28.386567819657213\n",
    "            ],\n",
    "            [\n",
    "              77.39456176757812,\n",
    "              28.90480168030353\n",
    "            ],\n",
    "            [\n",
    "              76.77932739257812,\n",
    "              28.90480168030353\n",
    "            ],\n",
    "            [\n",
    "              76.77932739257812,\n",
    "              28.386567819657213\n",
    "            ]\n",
    "          ]\n",
    "        ]\n",
    "      }\n",
    "    }\n",
    "  ]\n",
    "}"
   ]
  },
  {
   "cell_type": "code",
   "execution_count": null,
   "metadata": {
    "id": "xlPiUK426ojb"
   },
   "outputs": [],
   "source": [
    "coords = geojson['features'][0]['geometry']['coordinates']\n",
    "aoi = ee.Geometry.Polygon(coords)"
   ]
  },
  {
   "cell_type": "markdown",
   "metadata": {
    "id": "bxxx0arow7tf"
   },
   "source": [
    "Import folium and define a function to add and view our data layers on folium maps  "
   ]
  },
  {
   "cell_type": "code",
   "execution_count": null,
   "metadata": {
    "id": "eVccrO1n6omA"
   },
   "outputs": [],
   "source": [
    "import folium\n"
   ]
  },
  {
   "cell_type": "code",
   "execution_count": null,
   "metadata": {
    "id": "Q6hnvnod6oo6"
   },
   "outputs": [],
   "source": [
    "# Define a method for displaying Earth Engine image tiles on a folium map.\n",
    "def add_ee_layer(self, ee_object, vis_params, name):\n",
    "    \n",
    "    try:    \n",
    "        # display ee.Image()\n",
    "        if isinstance(ee_object, ee.image.Image):    \n",
    "            map_id_dict = ee.Image(ee_object).getMapId(vis_params)\n",
    "            folium.raster_layers.TileLayer(\n",
    "            tiles = map_id_dict['tile_fetcher'].url_format,\n",
    "            attr = 'Google Earth Engine',\n",
    "            name = name,\n",
    "            overlay = True,\n",
    "            control = True\n",
    "            ).add_to(self)\n",
    "        # display ee.ImageCollection()\n",
    "        elif isinstance(ee_object, ee.imagecollection.ImageCollection):    \n",
    "            ee_object_new = ee_object.mosaic()\n",
    "            map_id_dict = ee.Image(ee_object_new).getMapId(vis_params)\n",
    "            folium.raster_layers.TileLayer(\n",
    "            tiles = map_id_dict['tile_fetcher'].url_format,\n",
    "            attr = 'Google Earth Engine',\n",
    "            name = name,\n",
    "            overlay = True,\n",
    "            control = True\n",
    "            ).add_to(self)\n",
    "        # display ee.Geometry()\n",
    "        elif isinstance(ee_object, ee.geometry.Geometry):    \n",
    "            folium.GeoJson(\n",
    "            data = ee_object.getInfo(),\n",
    "            name = name,\n",
    "            overlay = True,\n",
    "            control = True\n",
    "        ).add_to(self)\n",
    "        # display ee.FeatureCollection()\n",
    "        elif isinstance(ee_object, ee.featurecollection.FeatureCollection):  \n",
    "            ee_object_new = ee.Image().paint(ee_object, 0, 2)\n",
    "            map_id_dict = ee.Image(ee_object_new).getMapId(vis_params)\n",
    "            folium.raster_layers.TileLayer(\n",
    "            tiles = map_id_dict['tile_fetcher'].url_format,\n",
    "            attr = 'Google Earth Engine',\n",
    "            name = name,\n",
    "            overlay = True,\n",
    "            control = True\n",
    "        ).add_to(self)\n",
    "    \n",
    "    except:\n",
    "        print(\"Could not display {}\".format(name))\n",
    "    \n",
    "# Add EE drawing method to folium.\n",
    "folium.Map.add_ee_layer = add_ee_layer"
   ]
  },
  {
   "cell_type": "markdown",
   "metadata": {
    "id": "AhIy77zXxvQR"
   },
   "source": [
    "Let's test our code by visualizing a Sentinel 5P NO2 image for our study area  "
   ]
  },
  {
   "cell_type": "code",
   "execution_count": null,
   "metadata": {
    "colab": {
     "base_uri": "https://localhost:8080/",
     "height": 1000
    },
    "id": "kt86d7Mf7ZAW",
    "outputId": "29072660-6590-4d77-83be-6e9520b385e4"
   },
   "outputs": [
    {
     "name": "stdout",
     "output_type": "stream",
     "text": [
      "ee.ImageCollection({\n",
      "  \"functionInvocationValue\": {\n",
      "    \"functionName\": \"Collection.filter\",\n",
      "    \"arguments\": {\n",
      "      \"collection\": {\n",
      "        \"functionInvocationValue\": {\n",
      "          \"functionName\": \"ImageCollection.load\",\n",
      "          \"arguments\": {\n",
      "            \"id\": {\n",
      "              \"constantValue\": \"COPERNICUS/S5P/OFFL/L3_NO2\"\n",
      "            }\n",
      "          }\n",
      "        }\n",
      "      },\n",
      "      \"filter\": {\n",
      "        \"functionInvocationValue\": {\n",
      "          \"functionName\": \"Filter.dateRangeContains\",\n",
      "          \"arguments\": {\n",
      "            \"leftValue\": {\n",
      "              \"functionInvocationValue\": {\n",
      "                \"functionName\": \"DateRange\",\n",
      "                \"arguments\": {\n",
      "                  \"end\": {\n",
      "                    \"constantValue\": \"2020-01-11\"\n",
      "                  },\n",
      "                  \"start\": {\n",
      "                    \"constantValue\": \"2020-01-01\"\n",
      "                  }\n",
      "                }\n",
      "              }\n",
      "            },\n",
      "            \"rightField\": {\n",
      "              \"constantValue\": \"system:time_start\"\n",
      "            }\n",
      "          }\n",
      "        }\n",
      "      }\n",
      "    }\n",
      "  }\n",
      "})\n"
     ]
    },
    {
     "data": {
      "text/html": [
       "<div style=\"width:100%;\"><div style=\"position:relative;width:100%;height:0;padding-bottom:60%;\"><span style=\"color:#565656\">Make this Notebook Trusted to load map: File -> Trust Notebook</span><iframe src=\"about:blank\" style=\"position:absolute;width:100%;height:100%;left:0;top:0;border:none !important;\" data-html=%3C%21DOCTYPE%20html%3E%0A%3Chead%3E%20%20%20%20%0A%20%20%20%20%3Cmeta%20http-equiv%3D%22content-type%22%20content%3D%22text/html%3B%20charset%3DUTF-8%22%20/%3E%0A%20%20%20%20%3Cscript%3EL_PREFER_CANVAS%3Dfalse%3B%20L_NO_TOUCH%3Dfalse%3B%20L_DISABLE_3D%3Dfalse%3B%3C/script%3E%0A%20%20%20%20%3Cscript%20src%3D%22https%3A//cdn.jsdelivr.net/npm/leaflet%401.4.0/dist/leaflet.js%22%3E%3C/script%3E%0A%20%20%20%20%3Cscript%20src%3D%22https%3A//code.jquery.com/jquery-1.12.4.min.js%22%3E%3C/script%3E%0A%20%20%20%20%3Cscript%20src%3D%22https%3A//maxcdn.bootstrapcdn.com/bootstrap/3.2.0/js/bootstrap.min.js%22%3E%3C/script%3E%0A%20%20%20%20%3Cscript%20src%3D%22https%3A//cdnjs.cloudflare.com/ajax/libs/Leaflet.awesome-markers/2.0.2/leaflet.awesome-markers.js%22%3E%3C/script%3E%0A%20%20%20%20%3Clink%20rel%3D%22stylesheet%22%20href%3D%22https%3A//cdn.jsdelivr.net/npm/leaflet%401.4.0/dist/leaflet.css%22/%3E%0A%20%20%20%20%3Clink%20rel%3D%22stylesheet%22%20href%3D%22https%3A//maxcdn.bootstrapcdn.com/bootstrap/3.2.0/css/bootstrap.min.css%22/%3E%0A%20%20%20%20%3Clink%20rel%3D%22stylesheet%22%20href%3D%22https%3A//maxcdn.bootstrapcdn.com/bootstrap/3.2.0/css/bootstrap-theme.min.css%22/%3E%0A%20%20%20%20%3Clink%20rel%3D%22stylesheet%22%20href%3D%22https%3A//maxcdn.bootstrapcdn.com/font-awesome/4.6.3/css/font-awesome.min.css%22/%3E%0A%20%20%20%20%3Clink%20rel%3D%22stylesheet%22%20href%3D%22https%3A//cdnjs.cloudflare.com/ajax/libs/Leaflet.awesome-markers/2.0.2/leaflet.awesome-markers.css%22/%3E%0A%20%20%20%20%3Clink%20rel%3D%22stylesheet%22%20href%3D%22https%3A//rawcdn.githack.com/python-visualization/folium/master/folium/templates/leaflet.awesome.rotate.css%22/%3E%0A%20%20%20%20%3Cstyle%3Ehtml%2C%20body%20%7Bwidth%3A%20100%25%3Bheight%3A%20100%25%3Bmargin%3A%200%3Bpadding%3A%200%3B%7D%3C/style%3E%0A%20%20%20%20%3Cstyle%3E%23map%20%7Bposition%3Aabsolute%3Btop%3A0%3Bbottom%3A0%3Bright%3A0%3Bleft%3A0%3B%7D%3C/style%3E%0A%20%20%20%20%0A%20%20%20%20%3Cmeta%20name%3D%22viewport%22%20content%3D%22width%3Ddevice-width%2C%0A%20%20%20%20%20%20%20%20initial-scale%3D1.0%2C%20maximum-scale%3D1.0%2C%20user-scalable%3Dno%22%20/%3E%0A%20%20%20%20%3Cstyle%3E%23map_5a7336b1e7144b88b07b825db310560d%20%7B%0A%20%20%20%20%20%20%20%20position%3A%20relative%3B%0A%20%20%20%20%20%20%20%20width%3A%20100.0%25%3B%0A%20%20%20%20%20%20%20%20height%3A%20100.0%25%3B%0A%20%20%20%20%20%20%20%20left%3A%200.0%25%3B%0A%20%20%20%20%20%20%20%20top%3A%200.0%25%3B%0A%20%20%20%20%20%20%20%20%7D%0A%20%20%20%20%3C/style%3E%0A%3C/head%3E%0A%3Cbody%3E%20%20%20%20%0A%20%20%20%20%0A%20%20%20%20%3Cdiv%20class%3D%22folium-map%22%20id%3D%22map_5a7336b1e7144b88b07b825db310560d%22%20%3E%3C/div%3E%0A%3C/body%3E%0A%3Cscript%3E%20%20%20%20%0A%20%20%20%20%0A%20%20%20%20%0A%20%20%20%20%20%20%20%20var%20bounds%20%3D%20null%3B%0A%20%20%20%20%0A%0A%20%20%20%20var%20map_5a7336b1e7144b88b07b825db310560d%20%3D%20L.map%28%0A%20%20%20%20%20%20%20%20%27map_5a7336b1e7144b88b07b825db310560d%27%2C%20%7B%0A%20%20%20%20%20%20%20%20center%3A%20%5B0%2C%200%5D%2C%0A%20%20%20%20%20%20%20%20zoom%3A%201%2C%0A%20%20%20%20%20%20%20%20maxBounds%3A%20bounds%2C%0A%20%20%20%20%20%20%20%20layers%3A%20%5B%5D%2C%0A%20%20%20%20%20%20%20%20worldCopyJump%3A%20false%2C%0A%20%20%20%20%20%20%20%20crs%3A%20L.CRS.EPSG3857%2C%0A%20%20%20%20%20%20%20%20zoomControl%3A%20true%2C%0A%20%20%20%20%20%20%20%20%7D%29%3B%0A%0A%0A%20%20%20%20%0A%20%20%20%20var%20tile_layer_dea48568cdc24413aec89a0cdd12767a%20%3D%20L.tileLayer%28%0A%20%20%20%20%20%20%20%20%27https%3A//%7Bs%7D.tile.openstreetmap.org/%7Bz%7D/%7Bx%7D/%7By%7D.png%27%2C%0A%20%20%20%20%20%20%20%20%7B%0A%20%20%20%20%20%20%20%20%22attribution%22%3A%20null%2C%0A%20%20%20%20%20%20%20%20%22detectRetina%22%3A%20false%2C%0A%20%20%20%20%20%20%20%20%22maxNativeZoom%22%3A%2018%2C%0A%20%20%20%20%20%20%20%20%22maxZoom%22%3A%2018%2C%0A%20%20%20%20%20%20%20%20%22minZoom%22%3A%200%2C%0A%20%20%20%20%20%20%20%20%22noWrap%22%3A%20false%2C%0A%20%20%20%20%20%20%20%20%22opacity%22%3A%201%2C%0A%20%20%20%20%20%20%20%20%22subdomains%22%3A%20%22abc%22%2C%0A%20%20%20%20%20%20%20%20%22tms%22%3A%20false%0A%7D%29.addTo%28map_5a7336b1e7144b88b07b825db310560d%29%3B%0A%20%20%20%20var%20tile_layer_2b5c51bd8c1c4b1bb34003c093ab90ec%20%3D%20L.tileLayer%28%0A%20%20%20%20%20%20%20%20%27https%3A//earthengine.googleapis.com/v1alpha/projects/earthengine-legacy/maps/df966d0d6f4617b95e75bb95927b52ca-879681f32942941a8dad7b20721c0e35/tiles/%7Bz%7D/%7Bx%7D/%7By%7D%27%2C%0A%20%20%20%20%20%20%20%20%7B%0A%20%20%20%20%20%20%20%20%22attribution%22%3A%20%22Google%20Earth%20Engine%22%2C%0A%20%20%20%20%20%20%20%20%22detectRetina%22%3A%20false%2C%0A%20%20%20%20%20%20%20%20%22maxNativeZoom%22%3A%2018%2C%0A%20%20%20%20%20%20%20%20%22maxZoom%22%3A%2018%2C%0A%20%20%20%20%20%20%20%20%22minZoom%22%3A%200%2C%0A%20%20%20%20%20%20%20%20%22noWrap%22%3A%20false%2C%0A%20%20%20%20%20%20%20%20%22opacity%22%3A%201%2C%0A%20%20%20%20%20%20%20%20%22subdomains%22%3A%20%22abc%22%2C%0A%20%20%20%20%20%20%20%20%22tms%22%3A%20false%0A%7D%29.addTo%28map_5a7336b1e7144b88b07b825db310560d%29%3B%0A%20%20%20%20%0A%20%20%20%20%20%20%20%20%20%20%20%20var%20layer_control_dca344e44c91491e99cb44ebf3d7521d%20%3D%20%7B%0A%20%20%20%20%20%20%20%20%20%20%20%20%20%20%20%20base_layers%20%3A%20%7B%20%22openstreetmap%22%20%3A%20tile_layer_dea48568cdc24413aec89a0cdd12767a%2C%20%7D%2C%0A%20%20%20%20%20%20%20%20%20%20%20%20%20%20%20%20overlays%20%3A%20%7B%20%22S5P%20NO2%22%20%3A%20tile_layer_2b5c51bd8c1c4b1bb34003c093ab90ec%2C%20%7D%0A%20%20%20%20%20%20%20%20%20%20%20%20%20%20%20%20%7D%3B%0A%20%20%20%20%20%20%20%20%20%20%20%20L.control.layers%28%0A%20%20%20%20%20%20%20%20%20%20%20%20%20%20%20%20layer_control_dca344e44c91491e99cb44ebf3d7521d.base_layers%2C%0A%20%20%20%20%20%20%20%20%20%20%20%20%20%20%20%20layer_control_dca344e44c91491e99cb44ebf3d7521d.overlays%2C%0A%20%20%20%20%20%20%20%20%20%20%20%20%20%20%20%20%7Bposition%3A%20%27topright%27%2C%0A%20%20%20%20%20%20%20%20%20%20%20%20%20%20%20%20%20collapsed%3A%20true%2C%0A%20%20%20%20%20%20%20%20%20%20%20%20%20%20%20%20%20autoZIndex%3A%20true%0A%20%20%20%20%20%20%20%20%20%20%20%20%20%20%20%20%7D%29.addTo%28map_5a7336b1e7144b88b07b825db310560d%29%3B%0A%20%20%20%20%20%20%20%20%20%20%20%20%0A%20%20%20%20%20%20%20%20%0A%3C/script%3E onload=\"this.contentDocument.open();this.contentDocument.write(    decodeURIComponent(this.getAttribute('data-html')));this.contentDocument.close();\" allowfullscreen webkitallowfullscreen mozallowfullscreen></iframe></div></div>"
      ],
      "text/plain": [
       "<folium.folium.Map at 0x7fec3509a990>"
      ]
     },
     "metadata": {},
     "output_type": "display_data"
    }
   ],
   "source": [
    "collection = ee.ImageCollection('COPERNICUS/S5P/OFFL/L3_NO2').filterDate('2020-01-01', '2020-01-11')\n",
    "print(collection)\n",
    "band_viz = {\n",
    "  'bands': ['tropospheric_NO2_column_number_density'],\n",
    "  'min': 0,\n",
    "  'max': 0.0002,\n",
    "  'palette': ['black', 'blue', 'purple', 'cyan', 'green', 'yellow', 'red']\n",
    "}\n",
    "\n",
    "my_map_5 = folium.Map(zoom_start=5)\n",
    "my_map_5.add_ee_layer(collection.mean().clip(aoi), band_viz, 'S5P NO2')\n",
    "\n",
    "my_map_5.add_child(folium.LayerControl())\n",
    "display(my_map_5)\n",
    "#my_map_4.setCenter(-25.01, -4.28, 4)"
   ]
  },
  {
   "cell_type": "markdown",
   "metadata": {
    "id": "Jh-p7Cz-yDdM"
   },
   "source": [
    "For our analysis, we need average monthly NO2 concentrations over Delhi region for the year 2020 to study NO2 concentration trends with respect to changing anthropogenic activity. We use the following script to extract the desired data. "
   ]
  },
  {
   "cell_type": "code",
   "execution_count": null,
   "metadata": {
    "id": "4jayzugikKvu"
   },
   "outputs": [],
   "source": [
    "#Start by importing the Sentinel 5P NO2 L3 process level image collection \n",
    "collection = ee.ImageCollection('COPERNICUS/S5P/OFFL/L3_NO2');\n",
    "\n",
    "#Create a function to create monthly composite of the image collection for the year 2020\n",
    "step_list = ee.List.sequence(1,12);\n",
    "def funk(month):\n",
    "   startDate = ee.Date.fromYMD(2020,month,1);\n",
    "   endDate = ee.Date.fromYMD(2020,month,29);\n",
    "   composite_i = collection.select('tropospheric_NO2_column_number_density').filterDate(startDate,endDate).mean().clip(aoi).set('system:time_start', startDate);\n",
    "   return composite_i;                                \n",
    "\n",
    "filter_collection = step_list.map(funk);                                  \n",
    "\n",
    "monthly_composite = ee.ImageCollection(filter_collection) ;\n",
    "\n",
    "#Filter our resulting composite to create month wise subsets\n",
    "y1 = monthly_composite.filterDate('2020-01-01','2020-01-29');\n",
    "y2 = monthly_composite.filterDate('2020-02-01','2020-02-29');\n",
    "y3 = monthly_composite.filterDate('2020-03-01','2020-03-29');\n",
    "y4 = monthly_composite.filterDate('2020-04-01','2020-04-29');\n",
    "y5 = monthly_composite.filterDate('2020-05-01','2020-05-29');\n",
    "y6 = monthly_composite.filterDate('2020-06-01','2020-06-29');\n",
    "y7 = monthly_composite.filterDate('2020-07-01','2020-07-29');\n",
    "y8 = monthly_composite.filterDate('2020-08-01','2020-08-29');\n",
    "y9 = monthly_composite.filterDate('2020-09-01','2020-09-29');\n",
    "y10 = monthly_composite.filterDate('2020-10-01','2020-10-29');\n",
    "y11 = monthly_composite.filterDate('2020-11-01','2020-11-29');\n",
    "y12 = monthly_composite.filterDate('2020-12-01','2020-12-29');\n",
    "\n",
    "\n",
    "#Create an empty list which will contain average monthly NO2 concentration values\n",
    "monthly_NO2 = [];\n",
    "\n",
    "#Calculate average monthly values first by getting a mean value of all the images avaliable for an entire month and then reducing the resulting average image to its mean statistic value\n",
    "avg_jan = y1.mean().reduceRegion(reducer= ee.Reducer.mean(), geometry= aoi, scale=30, maxPixels= 10e13)\n",
    "jan = avg_jan.getInfo()['tropospheric_NO2_column_number_density']\n",
    "monthly_NO2.append(jan)\n",
    "\n",
    "avg_feb = y2.mean().reduceRegion(reducer= ee.Reducer.mean(), geometry= aoi, scale=30, maxPixels= 10e13)\n",
    "feb = avg_feb.getInfo()['tropospheric_NO2_column_number_density']\n",
    "monthly_NO2.append(feb)\n",
    "\n",
    "avg_mar = y3.mean().reduceRegion(reducer= ee.Reducer.mean(), geometry= aoi, scale=30, maxPixels= 10e13)\n",
    "mar = avg_mar.getInfo()['tropospheric_NO2_column_number_density']\n",
    "monthly_NO2.append(mar)\n",
    "\n",
    "\n",
    "avg_april = y4.mean().reduceRegion(reducer= ee.Reducer.mean(), geometry= aoi, scale=30, maxPixels= 10e13)\n",
    "april = avg_april.getInfo()['tropospheric_NO2_column_number_density']\n",
    "monthly_NO2.append(april)\n",
    "\n",
    "avg_may = y5.mean().reduceRegion(reducer= ee.Reducer.mean(), geometry= aoi, scale=30, maxPixels= 10e13)\n",
    "may = avg_may.getInfo()['tropospheric_NO2_column_number_density']\n",
    "monthly_NO2.append(may)\n",
    "\n",
    "avg_june = y6.mean().reduceRegion(reducer= ee.Reducer.mean(), geometry= aoi, scale=30, maxPixels= 10e13)\n",
    "june = avg_june.getInfo()['tropospheric_NO2_column_number_density']\n",
    "monthly_NO2.append(june)\n",
    "\n",
    "\n",
    "avg_july = y7.mean().reduceRegion(reducer= ee.Reducer.mean(), geometry= aoi, scale=30, maxPixels= 10e13)\n",
    "july = avg_july.getInfo()['tropospheric_NO2_column_number_density']\n",
    "monthly_NO2.append(july)\n",
    "\n",
    "avg_august = y8.mean().reduceRegion(reducer= ee.Reducer.mean(), geometry= aoi, scale=30, maxPixels= 10e13)\n",
    "august = avg_august.getInfo()['tropospheric_NO2_column_number_density']\n",
    "monthly_NO2.append(august)\n",
    "\n",
    "\n",
    "avg_sept = y9.mean().reduceRegion(reducer= ee.Reducer.mean(), geometry= aoi, scale=30, maxPixels= 10e13)\n",
    "sept = avg_sept.getInfo()['tropospheric_NO2_column_number_density']\n",
    "monthly_NO2.append(sept)\n",
    "\n",
    "avg_october = y10.mean().reduceRegion(reducer= ee.Reducer.mean(), geometry= aoi, scale=30, maxPixels= 10e13)\n",
    "oct = avg_october.getInfo()['tropospheric_NO2_column_number_density']\n",
    "monthly_NO2.append(oct)\n",
    "\n",
    "avg_november = y11.mean().reduceRegion(reducer= ee.Reducer.mean(), geometry= aoi, scale=30, maxPixels= 10e13)\n",
    "nov = avg_november.getInfo()['tropospheric_NO2_column_number_density']\n",
    "monthly_NO2.append(nov)\n",
    "\n",
    "\n",
    "avg_december = y12.mean().reduceRegion(reducer= ee.Reducer.mean(), geometry= aoi, scale=30, maxPixels= 10e13)\n",
    "dec = avg_december.getInfo()['tropospheric_NO2_column_number_density']\n",
    "monthly_NO2.append(dec)\n"
   ]
  },
  {
   "cell_type": "code",
   "execution_count": null,
   "metadata": {
    "colab": {
     "base_uri": "https://localhost:8080/"
    },
    "id": "oJl4arUAkKyJ",
    "outputId": "226932be-164f-4ac6-fd2d-707b727760d7"
   },
   "outputs": [
    {
     "name": "stdout",
     "output_type": "stream",
     "text": [
      "[0.00012639406435945954, 9.479486394733583e-05, 7.483880458576214e-05, 3.7325032650345493e-05, 6.012819499559e-05, 6.237332805184553e-05, 5.775366189501766e-05, 4.3184628384035926e-05, 5.778902743020165e-05, 8.093005255020477e-05, 9.334697076631547e-05, 0.00013359854525545276]\n"
     ]
    }
   ],
   "source": [
    "#Let us check out our final result\n",
    "print(monthly_NO2)"
   ]
  }
 ],
 "metadata": {
  "colab": {
   "name": "Sentinel5P_Delhi_2020.ipynb",
   "provenance": []
  },
  "kernelspec": {
   "display_name": "Python 3 (ipykernel)",
   "language": "python",
   "name": "python3"
  },
  "language_info": {
   "codemirror_mode": {
    "name": "ipython",
    "version": 3
   },
   "file_extension": ".py",
   "mimetype": "text/x-python",
   "name": "python",
   "nbconvert_exporter": "python",
   "pygments_lexer": "ipython3",
   "version": "3.7.11"
  }
 },
 "nbformat": 4,
 "nbformat_minor": 4
}
